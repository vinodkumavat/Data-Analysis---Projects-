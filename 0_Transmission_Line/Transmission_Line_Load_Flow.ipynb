{
 "cells": [
  {
   "cell_type": "code",
   "execution_count": 1,
   "id": "b20ee7c7",
   "metadata": {},
   "outputs": [],
   "source": [
    "# importing the libraries need\n",
    "import pandas as pd\n",
    "from matplotlib import pyplot as plt\n",
    "import numpy as np\n",
    "\n",
    "# importing data frame from sheet name MainData\n",
    "df_sheet = pd.read_excel(\"Lines_Plot.xlsx\")\n",
    "# importing data frame used for naming\n",
    "df_station_name = pd.read_excel(\"Station_Name_Id.xlsx\")"
   ]
  },
  {
   "cell_type": "code",
   "execution_count": 2,
   "id": "20aa24aa",
   "metadata": {},
   "outputs": [],
   "source": [
    "def counter_(unique_sample, total_sample):\n",
    "    # defining the counter array size = size(unique_Sample)\n",
    "    counter_temp = []\n",
    "\n",
    "    for i in range(len(unique_sample)):\n",
    "        # counting the number of times total sample have value greater than unique\n",
    "        temp_c = (total_sample[:] >= unique_sample[i]).sum()\n",
    "\n",
    "        # Finding the percentage of counter_temp over total sample\n",
    "        temp_per = (temp_c/len(total_sample))*100\n",
    "\n",
    "        # appending to the counter variable\n",
    "        counter_temp.append(temp_per)\n",
    "\n",
    "    return counter_temp"
   ]
  },
  {
   "cell_type": "code",
   "execution_count": 3,
   "id": "5bb3298b",
   "metadata": {},
   "outputs": [],
   "source": [
    "def month_decider(i, month_number):\n",
    "    row_indexing = [2880, 5856]\n",
    "    if (month_number == 0):\n",
    "        temp_sample = df_sheet.iloc[0:2880, i]\n",
    "        return temp_sample\n",
    "    elif (month_number == 1):\n",
    "        temp_sample = df_sheet.iloc[2880:5856, i]\n",
    "        return temp_sample\n",
    "    else:\n",
    "        temp_sample = df_sheet.iloc[5856:, i]\n",
    "        return temp_sample\n",
    "    "
   ]
  },
  {
   "cell_type": "code",
   "execution_count": 4,
   "id": "2dcf6987",
   "metadata": {},
   "outputs": [],
   "source": [
    "def title_decider(col_num):\n",
    "    # get the array of station id and name from Station_Name_Id.xlsx\n",
    "    station_id = df_station_name[\"Station ICT ID\"]\n",
    "    station_name = df_station_name[\"Station Name\"]\n",
    "    \n",
    "    # gettting actual id from Lines_Plot.xlsx for given column\n",
    "    actual_id = df_sheet.columns[col_num]\n",
    "    \n",
    "    # checking codition for actual id == station_id[col_num]\n",
    "    for i in range(len(station_id)):\n",
    "        if (station_id[i] == actual_id):\n",
    "            s_name = station_name[i]\n",
    "            return s_name\n",
    "    s_name = actual_id\n",
    "    return s_name"
   ]
  },
  {
   "cell_type": "code",
   "execution_count": 5,
   "id": "f4790bd4",
   "metadata": {},
   "outputs": [],
   "source": [
    "def x_y_values(i, reference_vol):    \n",
    "    # color decider\n",
    "    color_grph = ['r', 'b', 'g']\n",
    "    label_grph = ['April', 'May', 'June']\n",
    "    \n",
    "    \n",
    "    # plotting for 3 months\n",
    "    for month_number in range(3):\n",
    "        # Taking ith column\n",
    "        total_sample = month_decider(i, month_number)\n",
    "\n",
    "        # unique value by using \"unique()\" method\n",
    "        max_value_us = max(total_sample)+20\n",
    "        unique_sample = np.arange(0, max_value_us, 20)\n",
    "\n",
    "        # Calling counter function\n",
    "        counter_values = counter_(unique_sample, total_sample)\n",
    "\n",
    "        # Defining the axis values for plotting\n",
    "        x_axis_values = counter_values\n",
    "        y_axis_values = unique_sample\n",
    "\n",
    "        # plotting the graph\n",
    "        plt.plot(x_axis_values, y_axis_values, color = color_grph[month_number], label = label_grph[month_number])\n",
    "       \n",
    "    \n",
    "    # Graphing the reference line\n",
    "    plt.plot(np.arange(0, 100, 1), np.repeat(reference_vol, 100), color = \"black\", label = f\"Ref Volt = {reference_vol} MW\")\n",
    "    # Naming the x-axis, y-axis and the whole graph\n",
    "    plt.xlabel(\"% Time Duration\")\n",
    "    plt.ylabel(\"Load (Mega Watt)\")\n",
    "    title_name = title_decider(i)\n",
    "    plt.title(title_name)\n",
    "\n",
    "    # Adding legend, which helps us recognize the curve according to it's color\n",
    "    plt.legend()\n",
    "\n",
    "    # save image as 'png'\n",
    "    plt.savefig(\"output.png\")\n",
    "    \n",
    "    # To load the display window\n",
    "    plt.show()   "
   ]
  },
  {
   "cell_type": "code",
   "execution_count": 6,
   "id": "87818068",
   "metadata": {},
   "outputs": [
    {
     "name": "stdout",
     "output_type": "stream",
     "text": [
      "Enter the column index you want to plot = 100\n",
      "Enter the reference voltage = 600\n"
     ]
    },
    {
     "data": {
      "image/png": "[encoded data removed]",
      "text/plain": [
       "<Figure size 432x288 with 1 Axes>"
      ]
     },
     "metadata": {
      "needs_background": "light"
     },
     "output_type": "display_data"
    }
   ],
   "source": [
    "def runner_():\n",
    "    i = int(input(\"Enter the column index you want to plot = \"))\n",
    "    ref_vol = float(input(\"Enter the reference voltage = \"))\n",
    "    if (0<i<=103):\n",
    "        x_y_values(i, ref_vol)\n",
    "    else:\n",
    "        print(\"Enter the valid index for column\")\n",
    "        runner_()\n",
    "\n",
    "\n",
    "runner_()"
   ]
  },
  {
   "cell_type": "code",
   "execution_count": null,
   "id": "041065fd",
   "metadata": {},
   "outputs": [],
   "source": []
  }
 ],
 "metadata": {
  "kernelspec": {
   "display_name": "Python 3 (ipykernel)",
   "language": "python",
   "name": "python3"
  },
  "language_info": {
   "codemirror_mode": {
    "name": "ipython",
    "version": 3
   },
   "file_extension": ".py",
   "mimetype": "text/x-python",
   "name": "python",
   "nbconvert_exporter": "python",
   "pygments_lexer": "ipython3",
   "version": "3.9.12"
  }
 },
 "nbformat": 4,
 "nbformat_minor": 5
}
